{
 "cells": [
  {
   "cell_type": "markdown",
   "metadata": {},
   "source": [
    "# A Brief History of Film data exploration"
   ]
  },
  {
   "cell_type": "code",
   "execution_count": 1,
   "metadata": {
    "collapsed": true
   },
   "outputs": [],
   "source": [
    "%matplotlib inline\n",
    "import pandas as pd"
   ]
  },
  {
   "cell_type": "code",
   "execution_count": 188,
   "metadata": {
    "collapsed": false
   },
   "outputs": [
    {
     "data": {
      "text/html": [
       "<style>body {\n",
       "    margin: 0;\n",
       "    font-family: Helvetica;\n",
       "}\n",
       "table.dataframe {\n",
       "    border-collapse: collapse;\n",
       "    border: none;\n",
       "}\n",
       "table.dataframe tr {\n",
       "    border: none;\n",
       "}\n",
       "table.dataframe td, table.dataframe th {\n",
       "    margin: 0;\n",
       "    border: 1px solid white;\n",
       "    padding-left: 0.25em;\n",
       "    padding-right: 0.25em;\n",
       "}\n",
       "table.dataframe th:not(:empty) {\n",
       "    background-color: #fec;\n",
       "    text-align: left;\n",
       "    font-weight: normal;\n",
       "}\n",
       "table.dataframe tr:nth-child(2) th:empty {\n",
       "    border-left: none;\n",
       "    border-right: 1px dashed #888;\n",
       "}\n",
       "table.dataframe td {\n",
       "    border: 2px solid #ccf;\n",
       "    background-color: #f4f4ff;\n",
       "}\n",
       "h3 {\n",
       "    color: white;\n",
       "    background-color: black;\n",
       "    padding: 0.5em;\n",
       "}\n",
       "</style>"
      ],
      "text/plain": [
       "<IPython.core.display.HTML object>"
      ]
     },
     "execution_count": 188,
     "metadata": {},
     "output_type": "execute_result"
    }
   ],
   "source": [
    "from IPython.core.display import HTML\n",
    "from IPython.display import display\n",
    "css = open('style-table.css').read() + open('style-notebook.css').read()\n",
    "HTML('<style>{}</style>'.format(css))"
   ]
  },
  {
   "cell_type": "code",
   "execution_count": 182,
   "metadata": {
    "collapsed": false
   },
   "outputs": [
    {
     "data": {
      "text/html": [
       "<div>\n",
       "<table border=\"1\" class=\"dataframe\">\n",
       "  <thead>\n",
       "    <tr style=\"text-align: right;\">\n",
       "      <th></th>\n",
       "      <th>title</th>\n",
       "      <th>year</th>\n",
       "      <th>name</th>\n",
       "      <th>type</th>\n",
       "      <th>character</th>\n",
       "      <th>n</th>\n",
       "    </tr>\n",
       "  </thead>\n",
       "  <tbody>\n",
       "    <tr>\n",
       "      <th>0</th>\n",
       "      <td>Suuri illusioni</td>\n",
       "      <td>1985</td>\n",
       "      <td>Homo $</td>\n",
       "      <td>actor</td>\n",
       "      <td>Guests</td>\n",
       "      <td>22</td>\n",
       "    </tr>\n",
       "    <tr>\n",
       "      <th>1</th>\n",
       "      <td>Gangsta Rap: The Glockumentary</td>\n",
       "      <td>2007</td>\n",
       "      <td>Too $hort</td>\n",
       "      <td>actor</td>\n",
       "      <td>Himself</td>\n",
       "      <td>NaN</td>\n",
       "    </tr>\n",
       "    <tr>\n",
       "      <th>2</th>\n",
       "      <td>Menace II Society</td>\n",
       "      <td>1993</td>\n",
       "      <td>Too $hort</td>\n",
       "      <td>actor</td>\n",
       "      <td>Lew-Loc</td>\n",
       "      <td>27</td>\n",
       "    </tr>\n",
       "    <tr>\n",
       "      <th>3</th>\n",
       "      <td>Porndogs: The Adventures of Sadie</td>\n",
       "      <td>2009</td>\n",
       "      <td>Too $hort</td>\n",
       "      <td>actor</td>\n",
       "      <td>Bosco</td>\n",
       "      <td>3</td>\n",
       "    </tr>\n",
       "    <tr>\n",
       "      <th>4</th>\n",
       "      <td>Stop Pepper Palmer</td>\n",
       "      <td>2014</td>\n",
       "      <td>Too $hort</td>\n",
       "      <td>actor</td>\n",
       "      <td>Himself</td>\n",
       "      <td>NaN</td>\n",
       "    </tr>\n",
       "  </tbody>\n",
       "</table>\n",
       "</div>"
      ],
      "text/plain": [
       "                               title  year       name   type character   n\n",
       "0                    Suuri illusioni  1985     Homo $  actor    Guests  22\n",
       "1     Gangsta Rap: The Glockumentary  2007  Too $hort  actor   Himself NaN\n",
       "2                  Menace II Society  1993  Too $hort  actor   Lew-Loc  27\n",
       "3  Porndogs: The Adventures of Sadie  2009  Too $hort  actor     Bosco   3\n",
       "4                 Stop Pepper Palmer  2014  Too $hort  actor   Himself NaN"
      ]
     },
     "execution_count": 182,
     "metadata": {},
     "output_type": "execute_result"
    }
   ],
   "source": [
    "cast = pd.DataFrame.from_csv('data/cast.csv', index_col=None)\n",
    "cast.head()"
   ]
  },
  {
   "cell_type": "code",
   "execution_count": 4,
   "metadata": {
    "collapsed": false
   },
   "outputs": [
    {
     "data": {
      "text/html": [
       "<div>\n",
       "<table border=\"1\" class=\"dataframe\">\n",
       "  <thead>\n",
       "    <tr style=\"text-align: right;\">\n",
       "      <th></th>\n",
       "      <th>title</th>\n",
       "      <th>year</th>\n",
       "    </tr>\n",
       "  </thead>\n",
       "  <tbody>\n",
       "    <tr>\n",
       "      <th>0</th>\n",
       "      <td>The Rising Son</td>\n",
       "      <td>1990</td>\n",
       "    </tr>\n",
       "    <tr>\n",
       "      <th>1</th>\n",
       "      <td>The Thousand Plane Raid</td>\n",
       "      <td>1969</td>\n",
       "    </tr>\n",
       "    <tr>\n",
       "      <th>2</th>\n",
       "      <td>Crucea de piatra</td>\n",
       "      <td>1993</td>\n",
       "    </tr>\n",
       "    <tr>\n",
       "      <th>3</th>\n",
       "      <td>The 86</td>\n",
       "      <td>2015</td>\n",
       "    </tr>\n",
       "    <tr>\n",
       "      <th>4</th>\n",
       "      <td>Gaiking II</td>\n",
       "      <td>2011</td>\n",
       "    </tr>\n",
       "  </tbody>\n",
       "</table>\n",
       "</div>"
      ],
      "text/plain": [
       "                     title  year\n",
       "0           The Rising Son  1990\n",
       "1  The Thousand Plane Raid  1969\n",
       "2         Crucea de piatra  1993\n",
       "3                   The 86  2015\n",
       "4               Gaiking II  2011"
      ]
     },
     "execution_count": 4,
     "metadata": {},
     "output_type": "execute_result"
    }
   ],
   "source": [
    "titles = pd.DataFrame.from_csv('data/titles.csv', index_col=None)\n",
    "titles.head()"
   ]
  },
  {
   "cell_type": "code",
   "execution_count": 234,
   "metadata": {
    "collapsed": false
   },
   "outputs": [
    {
     "data": {
      "text/html": [
       "<div>\n",
       "<table border=\"1\" class=\"dataframe\">\n",
       "  <thead>\n",
       "    <tr style=\"text-align: right;\">\n",
       "      <th></th>\n",
       "      <th>title</th>\n",
       "      <th>year</th>\n",
       "      <th>country</th>\n",
       "      <th>date</th>\n",
       "    </tr>\n",
       "  </thead>\n",
       "  <tbody>\n",
       "    <tr>\n",
       "      <th>0</th>\n",
       "      <td>#73, Shaanthi Nivaasa</td>\n",
       "      <td>2007</td>\n",
       "      <td>India</td>\n",
       "      <td>2007-06-15</td>\n",
       "    </tr>\n",
       "    <tr>\n",
       "      <th>1</th>\n",
       "      <td>#AnonOccupy: Bio of a Villain</td>\n",
       "      <td>2015</td>\n",
       "      <td>USA</td>\n",
       "      <td>2015-11-05</td>\n",
       "    </tr>\n",
       "    <tr>\n",
       "      <th>2</th>\n",
       "      <td>#Beings</td>\n",
       "      <td>2015</td>\n",
       "      <td>Romania</td>\n",
       "      <td>2015-01-29</td>\n",
       "    </tr>\n",
       "    <tr>\n",
       "      <th>3</th>\n",
       "      <td>#Ewankosau saranghaeyo</td>\n",
       "      <td>2015</td>\n",
       "      <td>Philippines</td>\n",
       "      <td>2015-01-21</td>\n",
       "    </tr>\n",
       "    <tr>\n",
       "      <th>4</th>\n",
       "      <td>#Nerealnaya lyubov</td>\n",
       "      <td>2014</td>\n",
       "      <td>Russia</td>\n",
       "      <td>2014-02-13</td>\n",
       "    </tr>\n",
       "  </tbody>\n",
       "</table>\n",
       "</div>"
      ],
      "text/plain": [
       "                           title  year      country       date\n",
       "0          #73, Shaanthi Nivaasa  2007        India 2007-06-15\n",
       "1  #AnonOccupy: Bio of a Villain  2015          USA 2015-11-05\n",
       "2                        #Beings  2015      Romania 2015-01-29\n",
       "3         #Ewankosau saranghaeyo  2015  Philippines 2015-01-21\n",
       "4             #Nerealnaya lyubov  2014       Russia 2014-02-13"
      ]
     },
     "execution_count": 234,
     "metadata": {},
     "output_type": "execute_result"
    }
   ],
   "source": [
    "releases = pd.DataFrame.from_csv('data/release_dates.csv', index_col=None)\n",
    "releases['date'] = releases['date'].astype('datetime64')\n",
    "releases.head()"
   ]
  },
  {
   "cell_type": "markdown",
   "metadata": {},
   "source": [
    "### Some Premilinary Curiosity"
   ]
  },
  {
   "cell_type": "code",
   "execution_count": 256,
   "metadata": {
    "collapsed": false
   },
   "outputs": [
    {
     "data": {
      "text/plain": [
       "Hamlet                  19\n",
       "Macbeth                 14\n",
       "Carmen                  14\n",
       "The Three Musketeers    12\n",
       "The Outsider            11\n",
       "She                     11\n",
       "Blood Money             11\n",
       "Maya                    11\n",
       "The Promise             10\n",
       "Eva                     10\n",
       "dtype: int64"
      ]
     },
     "execution_count": 256,
     "metadata": {},
     "output_type": "execute_result"
    }
   ],
   "source": [
    "# Top 10 Most Common Movie Titles in Movie History\n",
    "titles['title'].value_counts().head(10)"
   ]
  },
  {
   "cell_type": "code",
   "execution_count": 259,
   "metadata": {
    "collapsed": false
   },
   "outputs": [
    {
     "data": {
      "text/plain": [
       "<matplotlib.axes._subplots.AxesSubplot at 0x12b729c90>"
      ]
     },
     "execution_count": 259,
     "metadata": {},
     "output_type": "execute_result"
    },
    {
     "data": {
      "image/png": "[encoded data removed]",
      "text/plain": [
       "<matplotlib.figure.Figure at 0x15ed78350>"
      ]
     },
     "metadata": {},
     "output_type": "display_data"
    }
   ],
   "source": [
    "# Plot of the number of 'Hamlet' Movies made each decade\n",
    "t = titles[titles.title == 'Hamlet']\n",
    "(t.year // 10 * 10).value_counts().sort_index().plot(kind='bar')"
   ]
  },
  {
   "cell_type": "code",
   "execution_count": 262,
   "metadata": {
    "collapsed": false
   },
   "outputs": [
    {
     "data": {
      "text/plain": [
       "Himself       18905\n",
       "Dancer        11002\n",
       "Extra          8693\n",
       "Reporter       7589\n",
       "Doctor         6793\n",
       "Policeman      6463\n",
       "Student        6379\n",
       "Nurse          6122\n",
       "Bartender      6119\n",
       "Minor Role     5814\n",
       "dtype: int64"
      ]
     },
     "execution_count": 262,
     "metadata": {},
     "output_type": "execute_result"
    }
   ],
   "source": [
    "# The Most Common Movie Character names in film history\n",
    "cast.character.value_counts().head(10)"
   ]
  },
  {
   "cell_type": "code",
   "execution_count": 264,
   "metadata": {
    "collapsed": false
   },
   "outputs": [
    {
     "data": {
      "text/plain": [
       "Adolf Hitler             92\n",
       "Richard Nixon            39\n",
       "Ronald Reagan            31\n",
       "John F. Kennedy          26\n",
       "Ron Jeremy               24\n",
       "Franklin D. Roosevelt    20\n",
       "Bill Clinton             20\n",
       "George W. Bush           20\n",
       "Winston Churchill        20\n",
       "Martin Luther King       19\n",
       "dtype: int64"
      ]
     },
     "execution_count": 264,
     "metadata": {},
     "output_type": "execute_result"
    }
   ],
   "source": [
    "# 10 Most Common People Billed as 'Himself' in Film History\n",
    "cast[cast.character == 'Himself'].name.value_counts().head(10)"
   ]
  },
  {
   "cell_type": "code",
   "execution_count": 265,
   "metadata": {
    "collapsed": false
   },
   "outputs": [
    {
     "data": {
      "text/plain": [
       "Joyce Brothers        14\n",
       "Queen Elizabeth II    11\n",
       "Margaret Thatcher      8\n",
       "Joan Rivers            7\n",
       "Mary Jo Pehl           7\n",
       "Lady Gaga              5\n",
       "Caroline Rhea          5\n",
       "Marilyn Monroe         5\n",
       "Bunny Yeager           5\n",
       "Kareena Kapoor         5\n",
       "dtype: int64"
      ]
     },
     "execution_count": 265,
     "metadata": {},
     "output_type": "execute_result"
    }
   ],
   "source": [
    "# And Herself?\n",
    "cast[cast.character == 'Herself'].name.value_counts().head(10)"
   ]
  },
  {
   "cell_type": "code",
   "execution_count": 266,
   "metadata": {
    "collapsed": false
   },
   "outputs": [
    {
     "data": {
      "text/plain": [
       "<matplotlib.axes._subplots.AxesSubplot at 0x150b57bd0>"
      ]
     },
     "execution_count": 266,
     "metadata": {},
     "output_type": "execute_result"
    },
    {
     "data": {
      "image/png": "[encoded data removed]",
      "text/plain": [
       "<matplotlib.figure.Figure at 0x150b66dd0>"
      ]
     },
     "metadata": {},
     "output_type": "display_data"
    }
   ],
   "source": [
    "# Number of rustler characters in each decade of film\n",
    "c = cast[cast.character == 'Rustler']\n",
    "(c.year // 10 * 10).value_counts().sort_index().plot(kind='bar')"
   ]
  },
  {
   "cell_type": "markdown",
   "metadata": {},
   "source": [
    "###Most Common Reoccurring Characters in Modern US Cinema"
   ]
  },
  {
   "cell_type": "code",
   "execution_count": 250,
   "metadata": {
    "collapsed": false
   },
   "outputs": [],
   "source": [
    "c = cast\n",
    "c = c[(c.year >= 1970)]\n",
    "c = c[c.n.notnull()]\n",
    "c = c.merge(releases, how='left', on=['title', 'year'])\n",
    "c = c[c.country == 'USA']\n",
    "c = c.groupby([c.character, c.name]).size()\n",
    "c = c[c.index.get_level_values('character') != c.index.get_level_values('name')]\n",
    "ignore = 'Helicopter Himself Herself Priest Additional'\n",
    "for char in ignore.split():\n",
    "    c = c[c.index.get_level_values('character').str.contains(char) == False]"
   ]
  },
  {
   "cell_type": "code",
   "execution_count": 251,
   "metadata": {
    "collapsed": false
   },
   "outputs": [
    {
     "data": {
      "text/plain": [
       "character                        name               \n",
       "Tsune (Torajiro's aunt)          Chieko Misaki          13\n",
       "Torajiro Kuruma                  Kiyoshi Atsumi         13\n",
       "Hiroshi (Sakura's husband)       Gin Maeda              13\n",
       "Sakura Suwa (Torajiro's sister)  Chieko Baish?          13\n",
       "Umetaro (Hiroshi's boss)         Hisao Dazai            13\n",
       "Q                                Desmond Llewelyn       10\n",
       "Special Vocal Effects            Frank Welker            9\n",
       "Madea                            Tyler Perry             9\n",
       "C-3PO                            Anthony Daniels         8\n",
       "Joe                              Tyler Perry             8\n",
       "Dancer                           Bryan Anthony           8\n",
       "Ron Weasley                      Rupert Grint            8\n",
       "Gregory Goyle                    Josh Herdman            8\n",
       "Rubeus Hagrid                    Robbie Coltrane         8\n",
       "Fred Weasley                     James Phelps            8\n",
       "Draco Malfoy                     Tom Felton              8\n",
       "Harry Potter                     Daniel Radcliffe        8\n",
       "Ginny Weasley                    Bonnie Wright           8\n",
       "Hermione Granger                 Emma (II) Watson        8\n",
       "George Weasley                   Oliver Phelps           8\n",
       "Neville Longbottom               Matthew (III) Lewis     8\n",
       "Scotty                           James Doohan            8\n",
       "Seamus Finnigan                  Devon Murray            7\n",
       "M                                Judi Dench              7\n",
       "Dean Thomas                      Alfred Enoch            7\n",
       "Dr. Bunsen Honeydew              Dave Goelz              7\n",
       "Silent Bob                       Kevin Smith             7\n",
       "Zoot                             Dave Goelz              7\n",
       "Jay                              Jason Mewes             7\n",
       "Argus Filch                      David (IV) Bradley      7\n",
       "dtype: int64"
      ]
     },
     "execution_count": 251,
     "metadata": {},
     "output_type": "execute_result"
    }
   ],
   "source": [
    "c.order(ascending=False).head(30)"
   ]
  },
  {
   "cell_type": "markdown",
   "metadata": {},
   "source": [
    "###Actors With the Most Roles in Each Decade"
   ]
  },
  {
   "cell_type": "code",
   "execution_count": 121,
   "metadata": {
    "collapsed": false
   },
   "outputs": [
    {
     "data": {
      "text/html": [
       "<div>\n",
       "<table border=\"1\" class=\"dataframe\">\n",
       "  <thead>\n",
       "    <tr style=\"text-align: right;\">\n",
       "      <th></th>\n",
       "      <th>year</th>\n",
       "      <th>name</th>\n",
       "      <th>num_roles</th>\n",
       "    </tr>\n",
       "  </thead>\n",
       "  <tbody>\n",
       "    <tr>\n",
       "      <th>3</th>\n",
       "      <td>1890</td>\n",
       "      <td>Sailor Sharkey</td>\n",
       "      <td>2</td>\n",
       "    </tr>\n",
       "    <tr>\n",
       "      <th>40</th>\n",
       "      <td>1900</td>\n",
       "      <td>Joseph Schrode</td>\n",
       "      <td>2</td>\n",
       "    </tr>\n",
       "    <tr>\n",
       "      <th>5725</th>\n",
       "      <td>1910</td>\n",
       "      <td>James Neill</td>\n",
       "      <td>64</td>\n",
       "    </tr>\n",
       "    <tr>\n",
       "      <th>16824</th>\n",
       "      <td>1920</td>\n",
       "      <td>George Fawcett</td>\n",
       "      <td>95</td>\n",
       "    </tr>\n",
       "    <tr>\n",
       "      <th>45227</th>\n",
       "      <td>1930</td>\n",
       "      <td>Lee Phelps</td>\n",
       "      <td>332</td>\n",
       "    </tr>\n",
       "    <tr>\n",
       "      <th>60854</th>\n",
       "      <td>1940</td>\n",
       "      <td>Bess Flowers</td>\n",
       "      <td>286</td>\n",
       "    </tr>\n",
       "    <tr>\n",
       "      <th>97046</th>\n",
       "      <td>1950</td>\n",
       "      <td>Bess Flowers</td>\n",
       "      <td>242</td>\n",
       "    </tr>\n",
       "    <tr>\n",
       "      <th>172377</th>\n",
       "      <td>1960</td>\n",
       "      <td>Kenner G. Kemp</td>\n",
       "      <td>86</td>\n",
       "    </tr>\n",
       "    <tr>\n",
       "      <th>231664</th>\n",
       "      <td>1970</td>\n",
       "      <td>Helen</td>\n",
       "      <td>89</td>\n",
       "    </tr>\n",
       "    <tr>\n",
       "      <th>403037</th>\n",
       "      <td>1980</td>\n",
       "      <td>Shakti Kapoor</td>\n",
       "      <td>118</td>\n",
       "    </tr>\n",
       "    <tr>\n",
       "      <th>590963</th>\n",
       "      <td>1990</td>\n",
       "      <td>Shakti Kapoor</td>\n",
       "      <td>129</td>\n",
       "    </tr>\n",
       "    <tr>\n",
       "      <th>781981</th>\n",
       "      <td>2000</td>\n",
       "      <td>Jagathi Sreekumar</td>\n",
       "      <td>132</td>\n",
       "    </tr>\n",
       "    <tr>\n",
       "      <th>1183553</th>\n",
       "      <td>2010</td>\n",
       "      <td>Eric Roberts</td>\n",
       "      <td>155</td>\n",
       "    </tr>\n",
       "    <tr>\n",
       "      <th>1536383</th>\n",
       "      <td>2020</td>\n",
       "      <td>Jaylen Davis</td>\n",
       "      <td>3</td>\n",
       "    </tr>\n",
       "  </tbody>\n",
       "</table>\n",
       "</div>"
      ],
      "text/plain": [
       "         year               name  num_roles\n",
       "3        1890     Sailor Sharkey          2\n",
       "40       1900     Joseph Schrode          2\n",
       "5725     1910        James Neill         64\n",
       "16824    1920     George Fawcett         95\n",
       "45227    1930         Lee Phelps        332\n",
       "60854    1940       Bess Flowers        286\n",
       "97046    1950       Bess Flowers        242\n",
       "172377   1960     Kenner G. Kemp         86\n",
       "231664   1970              Helen         89\n",
       "403037   1980      Shakti Kapoor        118\n",
       "590963   1990      Shakti Kapoor        129\n",
       "781981   2000  Jagathi Sreekumar        132\n",
       "1183553  2010       Eric Roberts        155\n",
       "1536383  2020       Jaylen Davis          3"
      ]
     },
     "execution_count": 121,
     "metadata": {},
     "output_type": "execute_result"
    }
   ],
   "source": [
    "df = pd.DataFrame(decs.size())\n",
    "df.columns = ['num_roles']\n",
    "df = df.reset_index(['year', 'name'])\n",
    "df.sort('num_roles', ascending=False).groupby('year').head(1).sort('year')"
   ]
  },
  {
   "cell_type": "markdown",
   "metadata": {},
   "source": [
    "### Exploration of Frank Oz's Career"
   ]
  },
  {
   "cell_type": "code",
   "execution_count": 243,
   "metadata": {
    "collapsed": false
   },
   "outputs": [
    {
     "data": {
      "text/html": [
       "<div>\n",
       "<table border=\"1\" class=\"dataframe\">\n",
       "  <thead>\n",
       "    <tr style=\"text-align: right;\">\n",
       "      <th></th>\n",
       "      <th>title</th>\n",
       "      <th>year</th>\n",
       "      <th>name</th>\n",
       "      <th>type</th>\n",
       "      <th>character</th>\n",
       "      <th>n</th>\n",
       "    </tr>\n",
       "  </thead>\n",
       "  <tbody>\n",
       "    <tr>\n",
       "      <th>1527764</th>\n",
       "      <td>The Muppet Movie</td>\n",
       "      <td>1979</td>\n",
       "      <td>Frank Oz</td>\n",
       "      <td>actor</td>\n",
       "      <td>Miss Piggy</td>\n",
       "      <td>2</td>\n",
       "    </tr>\n",
       "    <tr>\n",
       "      <th>1527771</th>\n",
       "      <td>The Muppet Movie</td>\n",
       "      <td>1979</td>\n",
       "      <td>Frank Oz</td>\n",
       "      <td>actor</td>\n",
       "      <td>Motorcycle Guy</td>\n",
       "      <td>2</td>\n",
       "    </tr>\n",
       "    <tr>\n",
       "      <th>1527770</th>\n",
       "      <td>The Muppet Movie</td>\n",
       "      <td>1979</td>\n",
       "      <td>Frank Oz</td>\n",
       "      <td>actor</td>\n",
       "      <td>Swedish Chef (assistant)</td>\n",
       "      <td>2</td>\n",
       "    </tr>\n",
       "    <tr>\n",
       "      <th>1527769</th>\n",
       "      <td>The Muppet Movie</td>\n",
       "      <td>1979</td>\n",
       "      <td>Frank Oz</td>\n",
       "      <td>actor</td>\n",
       "      <td>Marvin Suggs</td>\n",
       "      <td>2</td>\n",
       "    </tr>\n",
       "    <tr>\n",
       "      <th>1527768</th>\n",
       "      <td>The Muppet Movie</td>\n",
       "      <td>1979</td>\n",
       "      <td>Frank Oz</td>\n",
       "      <td>actor</td>\n",
       "      <td>Doc Hopper's Men</td>\n",
       "      <td>2</td>\n",
       "    </tr>\n",
       "    <tr>\n",
       "      <th>1527767</th>\n",
       "      <td>The Muppet Movie</td>\n",
       "      <td>1979</td>\n",
       "      <td>Frank Oz</td>\n",
       "      <td>actor</td>\n",
       "      <td>Sam the Eagle</td>\n",
       "      <td>2</td>\n",
       "    </tr>\n",
       "    <tr>\n",
       "      <th>1527766</th>\n",
       "      <td>The Muppet Movie</td>\n",
       "      <td>1979</td>\n",
       "      <td>Frank Oz</td>\n",
       "      <td>actor</td>\n",
       "      <td>Animal</td>\n",
       "      <td>2</td>\n",
       "    </tr>\n",
       "    <tr>\n",
       "      <th>1527765</th>\n",
       "      <td>The Muppet Movie</td>\n",
       "      <td>1979</td>\n",
       "      <td>Frank Oz</td>\n",
       "      <td>actor</td>\n",
       "      <td>Fozzie Bear</td>\n",
       "      <td>2</td>\n",
       "    </tr>\n",
       "    <tr>\n",
       "      <th>1527748</th>\n",
       "      <td>The Blues Brothers</td>\n",
       "      <td>1980</td>\n",
       "      <td>Frank Oz</td>\n",
       "      <td>actor</td>\n",
       "      <td>Corrections Officer</td>\n",
       "      <td>21</td>\n",
       "    </tr>\n",
       "    <tr>\n",
       "      <th>1527742</th>\n",
       "      <td>Star Wars: Episode V - The Empire Strikes Back</td>\n",
       "      <td>1980</td>\n",
       "      <td>Frank Oz</td>\n",
       "      <td>actor</td>\n",
       "      <td>Yoda</td>\n",
       "      <td>9</td>\n",
       "    </tr>\n",
       "  </tbody>\n",
       "</table>\n",
       "</div>"
      ],
      "text/plain": [
       "                                                  title  year      name  \\\n",
       "1527764                                The Muppet Movie  1979  Frank Oz   \n",
       "1527771                                The Muppet Movie  1979  Frank Oz   \n",
       "1527770                                The Muppet Movie  1979  Frank Oz   \n",
       "1527769                                The Muppet Movie  1979  Frank Oz   \n",
       "1527768                                The Muppet Movie  1979  Frank Oz   \n",
       "1527767                                The Muppet Movie  1979  Frank Oz   \n",
       "1527766                                The Muppet Movie  1979  Frank Oz   \n",
       "1527765                                The Muppet Movie  1979  Frank Oz   \n",
       "1527748                              The Blues Brothers  1980  Frank Oz   \n",
       "1527742  Star Wars: Episode V - The Empire Strikes Back  1980  Frank Oz   \n",
       "\n",
       "          type                 character   n  \n",
       "1527764  actor                Miss Piggy   2  \n",
       "1527771  actor            Motorcycle Guy   2  \n",
       "1527770  actor  Swedish Chef (assistant)   2  \n",
       "1527769  actor              Marvin Suggs   2  \n",
       "1527768  actor          Doc Hopper's Men   2  \n",
       "1527767  actor             Sam the Eagle   2  \n",
       "1527766  actor                    Animal   2  \n",
       "1527765  actor               Fozzie Bear   2  \n",
       "1527748  actor       Corrections Officer  21  \n",
       "1527742  actor                      Yoda   9  "
      ]
     },
     "execution_count": 243,
     "metadata": {},
     "output_type": "execute_result"
    }
   ],
   "source": [
    "# His First 10 Films\n",
    "c = cast[cast.name == 'Frank Oz'].sort('year')\n",
    "c.head(10)"
   ]
  },
  {
   "cell_type": "code",
   "execution_count": 244,
   "metadata": {
    "collapsed": false
   },
   "outputs": [
    {
     "data": {
      "text/plain": [
       "year  title                                   \n",
       "1979  The Muppet Movie                            8\n",
       "1981  An American Werewolf in London              2\n",
       "      The Great Muppet Caper                      6\n",
       "1982  The Dark Crystal                            2\n",
       "1984  The Muppets Take Manhattan                  7\n",
       "1985  Sesame Street Presents: Follow that Bird    3\n",
       "1992  The Muppet Christmas Carol                  7\n",
       "1996  Muppet Treasure Island                      4\n",
       "1999  Muppets from Space                          4\n",
       "      The Adventures of Elmo in Grouchland        3\n",
       "dtype: int64"
      ]
     },
     "execution_count": 244,
     "metadata": {},
     "output_type": "execute_result"
    }
   ],
   "source": [
    "# Each of the films by year in which Oz played more than one role\n",
    "c = cast[cast.name == 'Frank Oz'].sort('year')\n",
    "g = c.groupby(['year', 'title']).size()\n",
    "g[g > 1]"
   ]
  },
  {
   "cell_type": "code",
   "execution_count": 246,
   "metadata": {
    "collapsed": false
   },
   "outputs": [
    {
     "data": {
      "text/plain": [
       "character\n",
       "Grover            2\n",
       "Bert              3\n",
       "Cookie Monster    3\n",
       "Fozzie Bear       4\n",
       "Sam the Eagle     5\n",
       "Yoda              5\n",
       "Animal            6\n",
       "Miss Piggy        6\n",
       "dtype: int64"
      ]
     },
     "execution_count": 246,
     "metadata": {},
     "output_type": "execute_result"
    }
   ],
   "source": [
    "# List of the characters Oz has played at least twice\n",
    "c = cast[cast.name == 'Frank Oz']\n",
    "g = c.groupby('character').size()\n",
    "g[g > 1].order()"
   ]
  },
  {
   "cell_type": "markdown",
   "metadata": {
    "collapsed": false
   },
   "source": [
    "###Actors who played the most characters in a single film in each decade"
   ]
  },
  {
   "cell_type": "code",
   "execution_count": 217,
   "metadata": {
    "collapsed": false
   },
   "outputs": [
    {
     "data": {
      "text/html": [
       "<div>\n",
       "<table border=\"1\" class=\"dataframe\">\n",
       "  <thead>\n",
       "    <tr style=\"text-align: right;\">\n",
       "      <th></th>\n",
       "      <th>decade</th>\n",
       "      <th>title</th>\n",
       "      <th>year</th>\n",
       "      <th>name</th>\n",
       "      <th>num_chars</th>\n",
       "    </tr>\n",
       "  </thead>\n",
       "  <tbody>\n",
       "    <tr>\n",
       "      <th>1700593</th>\n",
       "      <td>1890</td>\n",
       "      <td>Miss Jerry</td>\n",
       "      <td>1894</td>\n",
       "      <td>Blanche Bayliss</td>\n",
       "      <td>1</td>\n",
       "    </tr>\n",
       "    <tr>\n",
       "      <th>2607486</th>\n",
       "      <td>1900</td>\n",
       "      <td>The Fairylogue and Radio-Plays</td>\n",
       "      <td>1908</td>\n",
       "      <td>Joseph Schrode</td>\n",
       "      <td>2</td>\n",
       "    </tr>\n",
       "    <tr>\n",
       "      <th>2661609</th>\n",
       "      <td>1910</td>\n",
       "      <td>The Hazards of Helen</td>\n",
       "      <td>1914</td>\n",
       "      <td>J.P. McGowan</td>\n",
       "      <td>11</td>\n",
       "    </tr>\n",
       "    <tr>\n",
       "      <th>2477041</th>\n",
       "      <td>1920</td>\n",
       "      <td>Tense Moments from Great Plays</td>\n",
       "      <td>1922</td>\n",
       "      <td>Sybil Thorndike</td>\n",
       "      <td>7</td>\n",
       "    </tr>\n",
       "    <tr>\n",
       "      <th>97345</th>\n",
       "      <td>1930</td>\n",
       "      <td>Ace Drummond</td>\n",
       "      <td>1936</td>\n",
       "      <td>Eddie Parker</td>\n",
       "      <td>5</td>\n",
       "    </tr>\n",
       "    <tr>\n",
       "      <th>1610240</th>\n",
       "      <td>1940</td>\n",
       "      <td>Make Mine Music</td>\n",
       "      <td>1946</td>\n",
       "      <td>Nelson Eddy</td>\n",
       "      <td>15</td>\n",
       "    </tr>\n",
       "    <tr>\n",
       "      <th>2360989</th>\n",
       "      <td>1950</td>\n",
       "      <td>Sprawa do zalatwienia</td>\n",
       "      <td>1953</td>\n",
       "      <td>Adolf Dymsza</td>\n",
       "      <td>8</td>\n",
       "    </tr>\n",
       "    <tr>\n",
       "      <th>1175727</th>\n",
       "      <td>1960</td>\n",
       "      <td>I mostri</td>\n",
       "      <td>1963</td>\n",
       "      <td>Vittorio Gassman</td>\n",
       "      <td>13</td>\n",
       "    </tr>\n",
       "    <tr>\n",
       "      <th>173360</th>\n",
       "      <td>1970</td>\n",
       "      <td>And Now for Something Completely Different</td>\n",
       "      <td>1971</td>\n",
       "      <td>Eric Idle</td>\n",
       "      <td>18</td>\n",
       "    </tr>\n",
       "    <tr>\n",
       "      <th>124122</th>\n",
       "      <td>1980</td>\n",
       "      <td>Akira</td>\n",
       "      <td>1988</td>\n",
       "      <td>Steve Kramer</td>\n",
       "      <td>24</td>\n",
       "    </tr>\n",
       "    <tr>\n",
       "      <th>2345955</th>\n",
       "      <td>1990</td>\n",
       "      <td>South Park: Bigger Longer &amp; Uncut</td>\n",
       "      <td>1999</td>\n",
       "      <td>Trey Parker</td>\n",
       "      <td>14</td>\n",
       "    </tr>\n",
       "    <tr>\n",
       "      <th>2844139</th>\n",
       "      <td>2000</td>\n",
       "      <td>The Simpsons Movie</td>\n",
       "      <td>2007</td>\n",
       "      <td>Dan Castellaneta</td>\n",
       "      <td>21</td>\n",
       "    </tr>\n",
       "    <tr>\n",
       "      <th>1722955</th>\n",
       "      <td>2010</td>\n",
       "      <td>Monty Python Live (Mostly)</td>\n",
       "      <td>2014</td>\n",
       "      <td>Michael Palin</td>\n",
       "      <td>21</td>\n",
       "    </tr>\n",
       "    <tr>\n",
       "      <th>758029</th>\n",
       "      <td>2020</td>\n",
       "      <td>Eagle Shadow</td>\n",
       "      <td>2020</td>\n",
       "      <td>Jaylen Davis</td>\n",
       "      <td>2</td>\n",
       "    </tr>\n",
       "  </tbody>\n",
       "</table>\n",
       "</div>"
      ],
      "text/plain": [
       "         decade                                       title  year  \\\n",
       "1700593    1890                                  Miss Jerry  1894   \n",
       "2607486    1900              The Fairylogue and Radio-Plays  1908   \n",
       "2661609    1910                        The Hazards of Helen  1914   \n",
       "2477041    1920              Tense Moments from Great Plays  1922   \n",
       "97345      1930                                Ace Drummond  1936   \n",
       "1610240    1940                             Make Mine Music  1946   \n",
       "2360989    1950                       Sprawa do zalatwienia  1953   \n",
       "1175727    1960                                    I mostri  1963   \n",
       "173360     1970  And Now for Something Completely Different  1971   \n",
       "124122     1980                                       Akira  1988   \n",
       "2345955    1990           South Park: Bigger Longer & Uncut  1999   \n",
       "2844139    2000                          The Simpsons Movie  2007   \n",
       "1722955    2010                  Monty Python Live (Mostly)  2014   \n",
       "758029     2020                                Eagle Shadow  2020   \n",
       "\n",
       "                     name  num_chars  \n",
       "1700593   Blanche Bayliss          1  \n",
       "2607486    Joseph Schrode          2  \n",
       "2661609      J.P. McGowan         11  \n",
       "2477041   Sybil Thorndike          7  \n",
       "97345        Eddie Parker          5  \n",
       "1610240       Nelson Eddy         15  \n",
       "2360989      Adolf Dymsza          8  \n",
       "1175727  Vittorio Gassman         13  \n",
       "173360          Eric Idle         18  \n",
       "124122       Steve Kramer         24  \n",
       "2345955       Trey Parker         14  \n",
       "2844139  Dan Castellaneta         21  \n",
       "1722955     Michael Palin         21  \n",
       "758029       Jaylen Davis          2  "
      ]
     },
     "execution_count": 217,
     "metadata": {},
     "output_type": "execute_result"
    }
   ],
   "source": [
    "num_roles = cast.groupby(['title', 'year', 'name']).size()\n",
    "df = pd.DataFrame(num_roles)\n",
    "df.columns = ['num_chars']\n",
    "df = df.reset_index(df.index.names)\n",
    "result = df.sort('num_chars', ascending=False).groupby(df.year // 10 * 10).head(1).sort('year')\n",
    "result.insert(0, 'decade', result.year //10 * 10)\n",
    "result"
   ]
  },
  {
   "cell_type": "markdown",
   "metadata": {},
   "source": [
    "###Plots of US releases and straight to video films"
   ]
  },
  {
   "cell_type": "code",
   "execution_count": 239,
   "metadata": {
    "collapsed": false
   },
   "outputs": [
    {
     "data": {
      "text/plain": [
       "<matplotlib.axes._subplots.AxesSubplot at 0x12631d850>"
      ]
     },
     "execution_count": 239,
     "metadata": {},
     "output_type": "execute_result"
    },
    {
     "data": {
      "image/png": "[encoded data removed]",
      "text/plain": [
       "<matplotlib.figure.Figure at 0x1267776d0>"
      ]
     },
     "metadata": {},
     "output_type": "display_data"
    }
   ],
   "source": [
    "total_films = releases.groupby('year').size()\n",
    "r = releases[['year', 'country']].groupby(['year', 'country']).size()\n",
    "r = r.unstack(1).fillna(0)\n",
    "r[['USA']].plot(xlim=(1900,2015))"
   ]
  },
  {
   "cell_type": "code",
   "execution_count": 208,
   "metadata": {
    "collapsed": false
   },
   "outputs": [
    {
     "data": {
      "text/plain": [
       "<matplotlib.axes._subplots.AxesSubplot at 0x1deafebd0>"
      ]
     },
     "execution_count": 208,
     "metadata": {},
     "output_type": "execute_result"
    },
    {
     "data": {
      "image/png": "[encoded data removed]",
      "text/plain": [
       "<matplotlib.figure.Figure at 0x1deae8750>"
      ]
     },
     "metadata": {},
     "output_type": "display_data"
    }
   ],
   "source": [
    "tr = titles.merge(releases[releases.country == 'USA'], how='left')\n",
    "unrealeased = tr[tr.date.isnull() == True].groupby('year').size()\n",
    "unrealeased.plot(xlim=(1900, 2010), ylim=(0, 4000))\n"
   ]
  },
  {
   "cell_type": "markdown",
   "metadata": {},
   "source": [
    "###Number of roles avaliable to actors and actresses each Year"
   ]
  },
  {
   "cell_type": "code",
   "execution_count": 218,
   "metadata": {
    "collapsed": false
   },
   "outputs": [
    {
     "data": {
      "text/plain": [
       "<matplotlib.axes._subplots.AxesSubplot at 0x1deadafd0>"
      ]
     },
     "execution_count": 218,
     "metadata": {},
     "output_type": "execute_result"
    },
    {
     "data": {
      "image/png": "[encoded data removed]",
      "text/plain": [
       "<matplotlib.figure.Figure at 0x1deafe710>"
      ]
     },
     "metadata": {},
     "output_type": "display_data"
    }
   ],
   "source": [
    "c = cast\n",
    "c.groupby(['year', 'type']).size().unstack().fillna(0).plot()"
   ]
  },
  {
   "cell_type": "code",
   "execution_count": 219,
   "metadata": {
    "collapsed": false
   },
   "outputs": [
    {
     "data": {
      "text/plain": [
       "<matplotlib.axes._subplots.AxesSubplot at 0x1deae3e50>"
      ]
     },
     "execution_count": 219,
     "metadata": {},
     "output_type": "execute_result"
    },
    {
     "data": {
      "image/png": "[encoded data removed]",
      "text/plain": [
       "<matplotlib.figure.Figure at 0x168dbfbd0>"
      ]
     },
     "metadata": {},
     "output_type": "display_data"
    }
   ],
   "source": [
    "c = cast\n",
    "c.groupby(['year', 'type']).size().unstack().fillna(0).plot(kind='area')"
   ]
  },
  {
   "cell_type": "code",
   "execution_count": null,
   "metadata": {
    "collapsed": true
   },
   "outputs": [],
   "source": []
  },
  {
   "cell_type": "markdown",
   "metadata": {},
   "source": [
    "### Plot of the Fraction of roles 1-3 (1 = leading roll; 2,3 = supporting roll) that are Awareded to Men Over Time"
   ]
  },
  {
   "cell_type": "code",
   "execution_count": 220,
   "metadata": {
    "collapsed": false
   },
   "outputs": [
    {
     "data": {
      "text/plain": [
       "<matplotlib.axes._subplots.AxesSubplot at 0x1273aaf10>"
      ]
     },
     "execution_count": 220,
     "metadata": {},
     "output_type": "execute_result"
    },
    {
     "data": {
      "image/png": "[encoded data removed]",
      "text/plain": [
       "<matplotlib.figure.Figure at 0x17ad24950>"
      ]
     },
     "metadata": {},
     "output_type": "display_data"
    }
   ],
   "source": [
    "c = cast[cast.n <= 3]\n",
    "g = c.groupby(['year', 'n', 'type']).size().unstack('type')\n",
    "u = g.actor / (g.actor + g.actress)\n",
    "u.unstack().plot(ylim=(0,1))"
   ]
  },
  {
   "cell_type": "markdown",
   "metadata": {},
   "source": [
    "###Bar Graph Showing Which Month Movies with 'Christmas\" in the Title are Released in the US"
   ]
  },
  {
   "cell_type": "code",
   "execution_count": 235,
   "metadata": {
    "collapsed": false
   },
   "outputs": [
    {
     "data": {
      "text/plain": [
       "<matplotlib.axes._subplots.AxesSubplot at 0x126779f10>"
      ]
     },
     "execution_count": 235,
     "metadata": {},
     "output_type": "execute_result"
    },
    {
     "data": {
      "image/png": "[encoded data removed]",
      "text/plain": [
       "<matplotlib.figure.Figure at 0x12d429890>"
      ]
     },
     "metadata": {},
     "output_type": "display_data"
    }
   ],
   "source": [
    "r = releases[releases.country == 'USA']\n",
    "r = r[r.title.str.contains('Christmas')].date.dt.month\n",
    "r.value_counts().sort_index().plot(kind='bar')"
   ]
  },
  {
   "cell_type": "code",
   "execution_count": null,
   "metadata": {
    "collapsed": true
   },
   "outputs": [],
   "source": []
  },
  {
   "cell_type": "markdown",
   "metadata": {},
   "source": [
    "###Most Common Leading Actors in the US For Each decade And the Most Common Supports"
   ]
  },
  {
   "cell_type": "code",
   "execution_count": 191,
   "metadata": {
    "collapsed": false
   },
   "outputs": [],
   "source": [
    "us_releases = releases[releases.country == 'USA']\n",
    "us_cast = cast.merge(us_releases, how='inner')[['title', 'year', 'name','type', 'character', 'n']]"
   ]
  },
  {
   "cell_type": "code",
   "execution_count": 237,
   "metadata": {
    "collapsed": false
   },
   "outputs": [
    {
     "name": "stdout",
     "output_type": "stream",
     "text": [
      "Summary:\n"
     ]
    },
    {
     "data": {
      "text/html": [
       "<div>\n",
       "<table border=\"1\" class=\"dataframe\">\n",
       "  <thead>\n",
       "    <tr style=\"text-align: right;\">\n",
       "      <th></th>\n",
       "      <th>year</th>\n",
       "      <th>name</th>\n",
       "      <th>num_leading_roles</th>\n",
       "    </tr>\n",
       "  </thead>\n",
       "  <tbody>\n",
       "    <tr>\n",
       "      <th>0</th>\n",
       "      <td>1900</td>\n",
       "      <td>L. Frank Baum</td>\n",
       "      <td>1</td>\n",
       "    </tr>\n",
       "    <tr>\n",
       "      <th>646</th>\n",
       "      <td>1910</td>\n",
       "      <td>Mary Pickford</td>\n",
       "      <td>36</td>\n",
       "    </tr>\n",
       "    <tr>\n",
       "      <th>1348</th>\n",
       "      <td>1920</td>\n",
       "      <td>Hoot Gibson</td>\n",
       "      <td>63</td>\n",
       "    </tr>\n",
       "    <tr>\n",
       "      <th>2076</th>\n",
       "      <td>1930</td>\n",
       "      <td>Bob Steele</td>\n",
       "      <td>62</td>\n",
       "    </tr>\n",
       "    <tr>\n",
       "      <th>3996</th>\n",
       "      <td>1940</td>\n",
       "      <td>Johnny Mack Brown</td>\n",
       "      <td>75</td>\n",
       "    </tr>\n",
       "    <tr>\n",
       "      <th>4878</th>\n",
       "      <td>1950</td>\n",
       "      <td>George Montgomery</td>\n",
       "      <td>24</td>\n",
       "    </tr>\n",
       "    <tr>\n",
       "      <th>5781</th>\n",
       "      <td>1960</td>\n",
       "      <td>Elvis Presley</td>\n",
       "      <td>27</td>\n",
       "    </tr>\n",
       "    <tr>\n",
       "      <th>6535</th>\n",
       "      <td>1970</td>\n",
       "      <td>Clint Eastwood</td>\n",
       "      <td>13</td>\n",
       "    </tr>\n",
       "    <tr>\n",
       "      <th>7294</th>\n",
       "      <td>1980</td>\n",
       "      <td>Burt Reynolds</td>\n",
       "      <td>16</td>\n",
       "    </tr>\n",
       "    <tr>\n",
       "      <th>9305</th>\n",
       "      <td>1990</td>\n",
       "      <td>John Travolta</td>\n",
       "      <td>14</td>\n",
       "    </tr>\n",
       "    <tr>\n",
       "      <th>12106</th>\n",
       "      <td>2000</td>\n",
       "      <td>Nicolas Cage</td>\n",
       "      <td>15</td>\n",
       "    </tr>\n",
       "    <tr>\n",
       "      <th>13616</th>\n",
       "      <td>2010</td>\n",
       "      <td>Danny Trejo</td>\n",
       "      <td>10</td>\n",
       "    </tr>\n",
       "    <tr>\n",
       "      <th>16043</th>\n",
       "      <td>2020</td>\n",
       "      <td>Jaylen Davis</td>\n",
       "      <td>1</td>\n",
       "    </tr>\n",
       "  </tbody>\n",
       "</table>\n",
       "</div>"
      ],
      "text/plain": [
       "       year               name  num_leading_roles\n",
       "0      1900      L. Frank Baum                  1\n",
       "646    1910      Mary Pickford                 36\n",
       "1348   1920        Hoot Gibson                 63\n",
       "2076   1930         Bob Steele                 62\n",
       "3996   1940  Johnny Mack Brown                 75\n",
       "4878   1950  George Montgomery                 24\n",
       "5781   1960      Elvis Presley                 27\n",
       "6535   1970     Clint Eastwood                 13\n",
       "7294   1980      Burt Reynolds                 16\n",
       "9305   1990      John Travolta                 14\n",
       "12106  2000       Nicolas Cage                 15\n",
       "13616  2010        Danny Trejo                 10\n",
       "16043  2020       Jaylen Davis                  1"
      ]
     },
     "execution_count": 237,
     "metadata": {},
     "output_type": "execute_result"
    }
   ],
   "source": [
    "#Leading Actors\n",
    "df = pd.DataFrame(us_cast[us_cast.n == 1].groupby(['year', 'name', 'title']).size())\n",
    "df.columns = ['num_leading_characters']\n",
    "df = df.reset_index(df.index.names)\n",
    "df = pd.DataFrame(df.groupby(['year', 'name']).size())\n",
    "df.columns = ['num_leading_roles']\n",
    "df = df.reset_index(df.index.names)\n",
    "t = df.sort('num_leading_roles', ascending=False).groupby([df.year//10*10, 'name']).sum()\n",
    "t = t.drop('year', axis=1).reset_index(t.index.names)\n",
    "leads = t.sort('num_leading_roles', ascending=False).groupby('year').head(1).sort('year')\n",
    "# Uncomment to see the top 5 for each decade\n",
    "# for name, group in t.sort('num_leading_roles', ascending=False).groupby('year'):\n",
    "#     print name\n",
    "#     display(group.head())\n",
    "\n",
    "print 'Summary:'\n",
    "leads\n"
   ]
  },
  {
   "cell_type": "code",
   "execution_count": 374,
   "metadata": {
    "collapsed": false
   },
   "outputs": [
    {
     "data": {
      "text/html": [
       "<div>\n",
       "<table border=\"1\" class=\"dataframe\">\n",
       "  <thead>\n",
       "    <tr style=\"text-align: right;\">\n",
       "      <th></th>\n",
       "      <th>year</th>\n",
       "      <th>name</th>\n",
       "      <th>num_supporting_roles</th>\n",
       "    </tr>\n",
       "  </thead>\n",
       "  <tbody>\n",
       "    <tr>\n",
       "      <th>0</th>\n",
       "      <td>1900</td>\n",
       "      <td>Frank Burns</td>\n",
       "      <td>1</td>\n",
       "    </tr>\n",
       "    <tr>\n",
       "      <th>815</th>\n",
       "      <td>1910</td>\n",
       "      <td>John Bowers</td>\n",
       "      <td>24</td>\n",
       "    </tr>\n",
       "    <tr>\n",
       "      <th>1776</th>\n",
       "      <td>1920</td>\n",
       "      <td>Conrad Nagel</td>\n",
       "      <td>31</td>\n",
       "    </tr>\n",
       "    <tr>\n",
       "      <th>4818</th>\n",
       "      <td>1930</td>\n",
       "      <td>Smiley Burnette</td>\n",
       "      <td>31</td>\n",
       "    </tr>\n",
       "    <tr>\n",
       "      <th>5065</th>\n",
       "      <td>1940</td>\n",
       "      <td>Al St. John</td>\n",
       "      <td>62</td>\n",
       "    </tr>\n",
       "    <tr>\n",
       "      <th>7031</th>\n",
       "      <td>1950</td>\n",
       "      <td>Huntz Hall</td>\n",
       "      <td>24</td>\n",
       "    </tr>\n",
       "    <tr>\n",
       "      <th>8800</th>\n",
       "      <td>1960</td>\n",
       "      <td>Suzanne Pleshette</td>\n",
       "      <td>9</td>\n",
       "    </tr>\n",
       "    <tr>\n",
       "      <th>9025</th>\n",
       "      <td>1970</td>\n",
       "      <td>Chieko Baish?</td>\n",
       "      <td>11</td>\n",
       "    </tr>\n",
       "    <tr>\n",
       "      <th>10642</th>\n",
       "      <td>1980</td>\n",
       "      <td>Kathleen Turner</td>\n",
       "      <td>7</td>\n",
       "    </tr>\n",
       "    <tr>\n",
       "      <th>12099</th>\n",
       "      <td>1990</td>\n",
       "      <td>Gene Hackman</td>\n",
       "      <td>11</td>\n",
       "    </tr>\n",
       "    <tr>\n",
       "      <th>14987</th>\n",
       "      <td>2000</td>\n",
       "      <td>Julianne Moore</td>\n",
       "      <td>9</td>\n",
       "    </tr>\n",
       "    <tr>\n",
       "      <th>17459</th>\n",
       "      <td>2010</td>\n",
       "      <td>Emma (III) Stone</td>\n",
       "      <td>7</td>\n",
       "    </tr>\n",
       "    <tr>\n",
       "      <th>19836</th>\n",
       "      <td>2020</td>\n",
       "      <td>Nick (VII) Clark</td>\n",
       "      <td>1</td>\n",
       "    </tr>\n",
       "  </tbody>\n",
       "</table>\n",
       "</div>"
      ],
      "text/plain": [
       "       year               name  num_supporting_roles\n",
       "0      1900        Frank Burns                     1\n",
       "815    1910        John Bowers                    24\n",
       "1776   1920       Conrad Nagel                    31\n",
       "4818   1930    Smiley Burnette                    31\n",
       "5065   1940        Al St. John                    62\n",
       "7031   1950         Huntz Hall                    24\n",
       "8800   1960  Suzanne Pleshette                     9\n",
       "9025   1970      Chieko Baish?                    11\n",
       "10642  1980    Kathleen Turner                     7\n",
       "12099  1990       Gene Hackman                    11\n",
       "14987  2000     Julianne Moore                     9\n",
       "17459  2010   Emma (III) Stone                     7\n",
       "19836  2020   Nick (VII) Clark                     1"
      ]
     },
     "execution_count": 374,
     "metadata": {},
     "output_type": "execute_result"
    }
   ],
   "source": [
    "#Supporting Actors\n",
    "df = pd.DataFrame(us_cast[us_cast.n == 2].groupby(['year', 'name', 'title']).size())\n",
    "df.columns = ['num_supporting_characters']\n",
    "df = df.reset_index(df.index.names)\n",
    "df = pd.DataFrame(df.groupby(['year', 'name']).size())\n",
    "df.columns = ['num_supporting_roles']\n",
    "df = df.reset_index(df.index.names)\n",
    "t = df.sort('num_supporting_roles', ascending=False).groupby([df.year//10*10, 'name']).sum()\n",
    "t = t.drop('year', axis=1).reset_index(t.index.names)\n",
    "supports = t.sort('num_supporting_roles', ascending=False).groupby('year').head(1).sort('year')\n",
    "supports"
   ]
  },
  {
   "cell_type": "code",
   "execution_count": 375,
   "metadata": {
    "collapsed": false
   },
   "outputs": [
    {
     "data": {
      "text/html": [
       "<div>\n",
       "<table border=\"1\" class=\"dataframe\">\n",
       "  <thead>\n",
       "    <tr style=\"text-align: right;\">\n",
       "      <th></th>\n",
       "      <th>decade</th>\n",
       "      <th>lead</th>\n",
       "      <th>support</th>\n",
       "    </tr>\n",
       "  </thead>\n",
       "  <tbody>\n",
       "    <tr>\n",
       "      <th>0</th>\n",
       "      <td>1900</td>\n",
       "      <td>L. Frank Baum</td>\n",
       "      <td>Frank Burns</td>\n",
       "    </tr>\n",
       "    <tr>\n",
       "      <th>1</th>\n",
       "      <td>1910</td>\n",
       "      <td>Mary Pickford</td>\n",
       "      <td>John Bowers</td>\n",
       "    </tr>\n",
       "    <tr>\n",
       "      <th>2</th>\n",
       "      <td>1920</td>\n",
       "      <td>Hoot Gibson</td>\n",
       "      <td>Conrad Nagel</td>\n",
       "    </tr>\n",
       "    <tr>\n",
       "      <th>3</th>\n",
       "      <td>1930</td>\n",
       "      <td>Bob Steele</td>\n",
       "      <td>Smiley Burnette</td>\n",
       "    </tr>\n",
       "    <tr>\n",
       "      <th>4</th>\n",
       "      <td>1940</td>\n",
       "      <td>Johnny Mack Brown</td>\n",
       "      <td>Al St. John</td>\n",
       "    </tr>\n",
       "    <tr>\n",
       "      <th>5</th>\n",
       "      <td>1950</td>\n",
       "      <td>George Montgomery</td>\n",
       "      <td>Huntz Hall</td>\n",
       "    </tr>\n",
       "    <tr>\n",
       "      <th>6</th>\n",
       "      <td>1960</td>\n",
       "      <td>Elvis Presley</td>\n",
       "      <td>Suzanne Pleshette</td>\n",
       "    </tr>\n",
       "    <tr>\n",
       "      <th>7</th>\n",
       "      <td>1970</td>\n",
       "      <td>Clint Eastwood</td>\n",
       "      <td>Chieko Baish?</td>\n",
       "    </tr>\n",
       "    <tr>\n",
       "      <th>8</th>\n",
       "      <td>1980</td>\n",
       "      <td>Burt Reynolds</td>\n",
       "      <td>Kathleen Turner</td>\n",
       "    </tr>\n",
       "    <tr>\n",
       "      <th>9</th>\n",
       "      <td>1990</td>\n",
       "      <td>John Travolta</td>\n",
       "      <td>Gene Hackman</td>\n",
       "    </tr>\n",
       "    <tr>\n",
       "      <th>10</th>\n",
       "      <td>2000</td>\n",
       "      <td>Nicolas Cage</td>\n",
       "      <td>Julianne Moore</td>\n",
       "    </tr>\n",
       "    <tr>\n",
       "      <th>11</th>\n",
       "      <td>2010</td>\n",
       "      <td>Danny Trejo</td>\n",
       "      <td>Emma (III) Stone</td>\n",
       "    </tr>\n",
       "    <tr>\n",
       "      <th>12</th>\n",
       "      <td>2020</td>\n",
       "      <td>Jaylen Davis</td>\n",
       "      <td>Nick (VII) Clark</td>\n",
       "    </tr>\n",
       "  </tbody>\n",
       "</table>\n",
       "</div>"
      ],
      "text/plain": [
       "    decade               lead            support\n",
       "0     1900      L. Frank Baum        Frank Burns\n",
       "1     1910      Mary Pickford        John Bowers\n",
       "2     1920        Hoot Gibson       Conrad Nagel\n",
       "3     1930         Bob Steele    Smiley Burnette\n",
       "4     1940  Johnny Mack Brown        Al St. John\n",
       "5     1950  George Montgomery         Huntz Hall\n",
       "6     1960      Elvis Presley  Suzanne Pleshette\n",
       "7     1970     Clint Eastwood      Chieko Baish?\n",
       "8     1980      Burt Reynolds    Kathleen Turner\n",
       "9     1990      John Travolta       Gene Hackman\n",
       "10    2000       Nicolas Cage     Julianne Moore\n",
       "11    2010        Danny Trejo   Emma (III) Stone\n",
       "12    2020       Jaylen Davis   Nick (VII) Clark"
      ]
     },
     "execution_count": 375,
     "metadata": {},
     "output_type": "execute_result"
    }
   ],
   "source": [
    "#Combined for the \"quintessential cast\" of each Decade\n",
    "leads['n'] = 1\n",
    "supports['n'] = 2\n",
    "perfect_cast = leads.merge(supports, on=['year'])\n",
    "perfect_cast = perfect_cast.drop(['num_leading_roles', 'num_supporting_roles', 'n_x', 'n_y'], axis=1)\n",
    "perfect_cast.columns = ['decade', 'lead', 'support']\n",
    "perfect_cast"
   ]
  },
  {
   "cell_type": "code",
   "execution_count": null,
   "metadata": {
    "collapsed": true
   },
   "outputs": [],
   "source": []
  },
  {
   "cell_type": "code",
   "execution_count": null,
   "metadata": {
    "collapsed": false
   },
   "outputs": [],
   "source": []
  },
  {
   "cell_type": "code",
   "execution_count": null,
   "metadata": {
    "collapsed": true
   },
   "outputs": [],
   "source": []
  },
  {
   "cell_type": "code",
   "execution_count": null,
   "metadata": {
    "collapsed": true
   },
   "outputs": [],
   "source": []
  },
  {
   "cell_type": "code",
   "execution_count": null,
   "metadata": {
    "collapsed": true
   },
   "outputs": [],
   "source": []
  }
 ],
 "metadata": {
  "kernelspec": {
   "display_name": "Python 2",
   "language": "python",
   "name": "python2"
  },
  "language_info": {
   "codemirror_mode": {
    "name": "ipython",
    "version": 2
   },
   "file_extension": ".py",
   "mimetype": "text/x-python",
   "name": "python",
   "nbconvert_exporter": "python",
   "pygments_lexer": "ipython2",
   "version": "2.7.10"
  }
 },
 "nbformat": 4,
 "nbformat_minor": 0
}
